{
 "cells": [
  {
   "cell_type": "code",
   "execution_count": null,
   "id": "44cacf8d-a292-407c-b6f3-4525fcfdfe4d",
   "metadata": {},
   "outputs": [],
   "source": [
    "import pyarrow.parquet as pq\n",
    "\n",
    "import pandas as pd\n",
    "from pathlib import Path\n",
    "import seaborn as sns"
   ]
  },
  {
   "cell_type": "markdown",
   "id": "50784039-4ce6-4a2c-95b9-9d8b9e44c71b",
   "metadata": {},
   "source": [
    "# Basic exploration of pageview data\n",
    "## With one of the pageview-files"
   ]
  },
  {
   "cell_type": "code",
   "execution_count": null,
   "id": "039e7ebf-cefa-4554-a268-57a3b8fda681",
   "metadata": {},
   "outputs": [],
   "source": [
    "df = pd.read_parquet('Drive Daten/students_pageviews_2021-01-01.parquet.gzip', engine='pyarrow')"
   ]
  },
  {
   "cell_type": "code",
   "execution_count": null,
   "id": "455d739c-fe57-43a4-b6a6-58f9860162b3",
   "metadata": {},
   "outputs": [],
   "source": [
    "df[df['time_engaged_in_s'] > 300].sort_values(by=\"time_engaged_in_s\")"
   ]
  },
  {
   "cell_type": "code",
   "execution_count": null,
   "id": "d598c460-d820-496d-a32f-a27d69c65c88",
   "metadata": {},
   "outputs": [],
   "source": [
    "df['time_engaged_in_s'].max()"
   ]
  },
  {
   "cell_type": "code",
   "execution_count": null,
   "id": "e83ba1fa-1965-4210-8229-3b88e3828b96",
   "metadata": {},
   "outputs": [],
   "source": [
    "df['time_engaged_in_s'].quantile(.90)"
   ]
  },
  {
   "cell_type": "code",
   "execution_count": null,
   "id": "8b8d9850-3d0f-4e4c-a2a0-a1cdeeedec41",
   "metadata": {},
   "outputs": [],
   "source": [
    "sns.histplot(df.loc[df['time_engaged_in_s']<df['time_engaged_in_s'].quantile(.90), 'time_engaged_in_s'],bins=100)"
   ]
  },
  {
   "cell_type": "code",
   "execution_count": null,
   "id": "164e7ca6-a407-4e5e-9583-fec80850acdc",
   "metadata": {},
   "outputs": [],
   "source": [
    "df['time_engaged_in_s']"
   ]
  },
  {
   "cell_type": "code",
   "execution_count": null,
   "id": "ee30a0b9-b463-4490-81a6-3d7f015aa41e",
   "metadata": {},
   "outputs": [],
   "source": [
    "len(df)"
   ]
  },
  {
   "cell_type": "code",
   "execution_count": null,
   "id": "a8889803-f5dd-43ba-b9ab-a1704d00fef7",
   "metadata": {},
   "outputs": [],
   "source": [
    "bins = [-1,4,29,59, 300_000]\n",
    "labels = [\"<5\", \"<30\", \"<60\", \">60\"]\n",
    "df[\"time_spent_cut\"] = pd.cut(df['time_engaged_in_s'], bins, labels=labels)\n",
    "df.time_spent_cut.unique()"
   ]
  },
  {
   "cell_type": "code",
   "execution_count": null,
   "id": "bd2ca753-fa30-4cb0-8e46-7eb154da6d54",
   "metadata": {},
   "outputs": [],
   "source": [
    "df"
   ]
  },
  {
   "cell_type": "markdown",
   "id": "4243e830-dd4a-43f4-8351-08a45b5de3a1",
   "metadata": {},
   "source": [
    "### Make a pivot table from the data since a groupby doesn't work that well with non-numerical data"
   ]
  },
  {
   "cell_type": "code",
   "execution_count": null,
   "id": "672eb517-7168-429b-9430-595e1946d85e",
   "metadata": {},
   "outputs": [],
   "source": [
    "pivot_df_time_cuts = df[[\"article_drive_id\", \"time_engaged_in_s\", \"time_spent_cut\"]].pivot_table(index=\"article_drive_id\" ,columns=\"time_spent_cut\", aggfunc=\"count\")\n",
    "\n",
    "pivot_df_time_cuts = pivot_df_time_cuts.reset_index()\n",
    "\n",
    "pivot_df_time_cuts.columns = pivot_df_time_cuts.columns.droplevel()\n",
    "pivot_df_time_cuts.columns = [\"article_drive_id\"] + list(pivot_df_time_cuts.columns[1:])\n",
    "pivot_df_time_cuts"
   ]
  },
  {
   "cell_type": "code",
   "execution_count": null,
   "id": "876ad4b2-9273-41bb-b0c6-bfa8c4544245",
   "metadata": {},
   "outputs": [],
   "source": [
    "df_read = df[df['time_engaged_in_s']>0]\n",
    "df_read"
   ]
  },
  {
   "cell_type": "code",
   "execution_count": null,
   "id": "bc51899c-45a5-41fb-982c-a12751f9b220",
   "metadata": {},
   "outputs": [],
   "source": [
    "len(pd.unique(df.article_drive_id))"
   ]
  },
  {
   "cell_type": "code",
   "execution_count": null,
   "id": "7226c50d-95bc-4ad8-95c7-985fa9e0a50f",
   "metadata": {},
   "outputs": [],
   "source": [
    "pd.unique(df.article_drive_id)"
   ]
  },
  {
   "cell_type": "code",
   "execution_count": null,
   "id": "3b22555f-da8c-44cc-8a4a-2729fb9df822",
   "metadata": {},
   "outputs": [],
   "source": [
    "df[\"count\"] = 1"
   ]
  },
  {
   "cell_type": "code",
   "execution_count": null,
   "id": "31335c64-fe2d-4610-80d7-fced7c7d7704",
   "metadata": {},
   "outputs": [],
   "source": [
    "df[[\"article_drive_id\", \"count\"]].groupby('article_drive_id').sum().reset_index()"
   ]
  },
  {
   "cell_type": "markdown",
   "id": "17be6f36-b537-400b-9d99-c817258300a0",
   "metadata": {},
   "source": [
    "## Now: Exploration of article data"
   ]
  },
  {
   "cell_type": "code",
   "execution_count": null,
   "id": "6b02d80a-0335-4e4c-8b09-f4825a0f6791",
   "metadata": {},
   "outputs": [],
   "source": [
    "df = pd.read_parquet('Techlabs/students_articles_enriched_1.parquet.gzip', engine='pyarrow')\n",
    "df.columns"
   ]
  },
  {
   "cell_type": "markdown",
   "id": "11a5575b-a141-4d35-8105-d72251fde45f",
   "metadata": {},
   "source": [
    "# Read ALL the DATA\n",
    "\n",
    "## First: article data"
   ]
  },
  {
   "cell_type": "code",
   "execution_count": null,
   "id": "9490ddc0-3a1f-479a-8d15-a373afac9f43",
   "metadata": {},
   "outputs": [],
   "source": [
    "drivepath = Path(\"Techlabs\")\n",
    "df_article_list = []\n",
    "\n",
    "relevant_columns = [ \"publisher_id\" , \"article_drive_id\" , \"published_at_local\" ,\"locality\" , \"topic\" , \"genre\" ]\n",
    "\n",
    "\n",
    "for count, curpath in enumerate(drivepath.glob(\"students_articles_enriched_*\")):\n",
    "    df = pd.read_parquet(curpath, engine='pyarrow')\n",
    "    general_table = df[relevant_columns]\n",
    "    df_article_list.append(general_table)\n",
    "\n",
    "df_allarticles = pd.concat(df_article_list)\n",
    "del df_article_list"
   ]
  },
  {
   "cell_type": "code",
   "execution_count": null,
   "id": "fe288606-535b-4f13-b557-b06bc52863be",
   "metadata": {},
   "outputs": [],
   "source": [
    "# df_allarticles.to_parquet(\"all_articles.parquet.gzip\", compression=\"gzip\")"
   ]
  },
  {
   "cell_type": "code",
   "execution_count": null,
   "id": "b9b07029-1bf0-4bcb-8438-491e8bf2357d",
   "metadata": {},
   "outputs": [],
   "source": [
    "# df_allarticles.to_csv(\"all_articles.csv\")"
   ]
  },
  {
   "cell_type": "markdown",
   "id": "d3eb8b54-b0e2-4624-8d4d-b276c2fa30a0",
   "metadata": {},
   "source": [
    "## Then: Pageview Data"
   ]
  },
  {
   "cell_type": "code",
   "execution_count": null,
   "id": "79efc073-7aa0-415c-a504-9b403777f07a",
   "metadata": {},
   "outputs": [],
   "source": [
    "df_user_list = []\n",
    "drivepath = Path(\"Drive Daten\")\n",
    "\n",
    "len_count = len(list(drivepath.rglob(\"students_pageviews*\")))\n",
    "\n",
    "\n",
    "import_columns = [\"article_drive_id\", \"time_engaged_in_s\"]\n",
    "\n",
    "\n",
    "for count, curpath in enumerate(drivepath.rglob(\"students_pageviews*\")):\n",
    "#     print(f\"{count+1}/{len_count}\")\n",
    "    df = pd.read_parquet(curpath, columns=import_columns, engine='pyarrow')\n",
    "\n",
    "    df_user_list.append(df)"
   ]
  },
  {
   "cell_type": "code",
   "execution_count": null,
   "id": "ab1ff9d3-757b-44c9-80ac-6e8ce3591f38",
   "metadata": {},
   "outputs": [],
   "source": [
    "df_user_intermediate = pd.concat(df_user_list)\n",
    "del df_user_list\n",
    "df_user_intermediate.to_parquet(\"pageviews_intermediate_time_engaged.parquet\")"
   ]
  },
  {
   "cell_type": "code",
   "execution_count": null,
   "id": "5266a2c5-0297-4487-b7d9-1bd78b8d49cd",
   "metadata": {},
   "outputs": [],
   "source": [
    "bins = [-1,4,29,59, 300_000]\n",
    "labels = [\"<5\", \"<30\", \"<60\", \">60\"]\n",
    "\n",
    "relevant_columns = [\"article_drive_id\", \"time_engaged_in_s\", \"time_spent_cut\"]\n",
    "\n",
    "df_user_intermediate[\"time_spent_cut\"] = pd.cut(df_user_intermediate['time_engaged_in_s'], bins, labels=labels)\n"
   ]
  },
  {
   "cell_type": "code",
   "execution_count": null,
   "id": "c9bf901f-2b4a-4268-b431-8ba998f2081e",
   "metadata": {},
   "outputs": [],
   "source": [
    "pivot_df_time_cuts = df_user_intermediate[relevant_columns].pivot_table(index=\"article_drive_id\" ,columns=\"time_spent_cut\", aggfunc=\"count\")"
   ]
  },
  {
   "cell_type": "code",
   "execution_count": null,
   "id": "490934bb-0541-4055-a97f-d4fbfe8ca946",
   "metadata": {},
   "outputs": [],
   "source": [
    "pivot_df_time_cuts"
   ]
  },
  {
   "cell_type": "code",
   "execution_count": null,
   "id": "94ce8b4b-2d4a-461a-b0b7-5cace0375d5e",
   "metadata": {},
   "outputs": [],
   "source": [
    "# create new index\n",
    "pivot_df_time_cuts = pivot_df_time_cuts.reset_index()\n",
    "# format new index of pivot table like old index with \"article_drive_id\" as the first column name\n",
    "pivot_df_time_cuts.columns = pivot_df_time_cuts.columns.droplevel()\n",
    "pivot_df_time_cuts.columns = [\"article_drive_id\"] + list(pivot_df_time_cuts.columns[1:])\n",
    "pivot_df_time_cuts[\"count_views\"] = pivot_df_time_cuts[\"<5\"] + pivot_df_time_cuts[\"<30\"] + pivot_df_time_cuts[\"<60\"] + pivot_df_time_cuts[\">60\"]\n",
    "pivot_df_time_cuts"
   ]
  },
  {
   "cell_type": "markdown",
   "id": "2aa4cc41-2653-402b-bc9e-1f458fb54ff5",
   "metadata": {},
   "source": [
    "### Write out the pivot_df as a file"
   ]
  },
  {
   "cell_type": "code",
   "execution_count": null,
   "id": "283d061a-a710-45cb-9533-c65f8469dbc8",
   "metadata": {},
   "outputs": [],
   "source": [
    "# pivot_df_time_cuts.to_parquet(\"pageviews_groupby_watchtime.parquet.gzip\", compression=\"gzip\")"
   ]
  },
  {
   "cell_type": "code",
   "execution_count": null,
   "id": "148916fe-435c-4ba3-bc06-a171189499d8",
   "metadata": {},
   "outputs": [],
   "source": [
    "# pivot_df_time_cuts.to_csv(\"pageviews_groupby_watchtime.csv\")"
   ]
  },
  {
   "cell_type": "markdown",
   "id": "2256355e-f0c2-48b8-bedd-9b1e11d6f417",
   "metadata": {},
   "source": [
    "### Build complete Dataframe from user_pivot_table and df_allarticles"
   ]
  },
  {
   "cell_type": "code",
   "execution_count": null,
   "id": "2bbef2e6-0468-4d42-bacd-39f0f0073204",
   "metadata": {},
   "outputs": [],
   "source": [
    "df_complete = df_allarticles.merge(pivot_df_time_cuts, on=\"article_drive_id\")\n",
    "df_complete.head()"
   ]
  },
  {
   "cell_type": "code",
   "execution_count": null,
   "id": "05319101-e04a-4400-b83e-7dbe95180685",
   "metadata": {},
   "outputs": [],
   "source": [
    "df_complete.to_pickle(\"aggregate_data\")"
   ]
  },
  {
   "cell_type": "markdown",
   "id": "d1edac23-337c-43fb-93ac-13155cd64888",
   "metadata": {},
   "source": [
    "#### Code to check validity"
   ]
  },
  {
   "cell_type": "code",
   "execution_count": null,
   "id": "df9f8efc-0646-41d1-948c-076e5f931ee8",
   "metadata": {},
   "outputs": [],
   "source": [
    "df_allusers.loc[df_allusers.article_drive_id == \"7ca7a1ca182332beef95b03281317e92\"]"
   ]
  },
  {
   "cell_type": "code",
   "execution_count": null,
   "id": "09297a0e-b3ab-45fb-a1c9-3d44d1ebe79a",
   "metadata": {},
   "outputs": [],
   "source": [
    "df_allarticles[df_allarticles.article_drive_id == \"7ca7a1ca182332beef95b03281317e92\"]"
   ]
  },
  {
   "cell_type": "code",
   "execution_count": null,
   "id": "8aaeab86-0f26-42cc-a51e-738d9a3c6744",
   "metadata": {},
   "outputs": [],
   "source": [
    "df_all_users_articles = df_allarticles.merge(df_allusers, on=\"article_drive_id\")\n",
    "df_all_users_articles.head()"
   ]
  },
  {
   "cell_type": "code",
   "execution_count": null,
   "id": "88f21222-0562-48ce-b85a-cc80e9516ef6",
   "metadata": {},
   "outputs": [],
   "source": [
    "df_all_users_articles[df_all_users_articles[\"article_drive_id\"] == \"397d5f5ee004e751c1c8ab46ed4af498\"]"
   ]
  },
  {
   "cell_type": "markdown",
   "id": "398f5a86-6fd3-4f61-aa33-2cfe68d2a817",
   "metadata": {},
   "source": [
    "## Exploring \"weird\" article data with exceptionally high number of pageviews"
   ]
  },
  {
   "cell_type": "code",
   "execution_count": null,
   "id": "c73d70c8-fff2-42a8-9414-337d2c96babb",
   "metadata": {},
   "outputs": [],
   "source": [
    "drivepath = Path(\"Techlabs\")\n",
    "df_article_fulltext_list = []\n",
    "\n",
    "relevant_columns = [ \"article_drive_id\" ,\"locality\" , \"topic\" , \"genre\", \"article_header\", \"article_full_text\" ]\n",
    "\n",
    "\n",
    "for count, curpath in enumerate(drivepath.glob(\"students_articles_enriched_*\")):\n",
    "    df = pd.read_parquet(curpath, engine='pyarrow')\n",
    "    general_table = df[relevant_columns]\n",
    "    df_article_fulltext_list.append(general_table)\n",
    "\n",
    "df_allarticles_fulltext = pd.concat(df_article_fulltext_list)"
   ]
  },
  {
   "cell_type": "code",
   "execution_count": null,
   "id": "8254ad90-1bbf-4675-a95a-c665b834af02",
   "metadata": {},
   "outputs": [],
   "source": [
    "df_allarticles_fulltext.loc[df_allarticles_fulltext[\"article_drive_id\"] == \"7ca7a1ca182332beef95b03281317e92\", \"article_full_text\"]"
   ]
  },
  {
   "cell_type": "code",
   "execution_count": null,
   "id": "1583be5a-ac7d-4784-aac2-1226126fc97a",
   "metadata": {},
   "outputs": [],
   "source": [
    "df_allarticles_fulltext.loc[df_allarticles_fulltext[\"article_drive_id\"] == \"397d5f5ee004e751c1c8ab46ed4af498\", \"article_full_text\"]"
   ]
  },
  {
   "cell_type": "markdown",
   "id": "7e9d5d64-89f0-432a-9ee4-61add34cc0ce",
   "metadata": {},
   "source": [
    "## Crosscheck_user_viewcounts"
   ]
  },
  {
   "cell_type": "code",
   "execution_count": null,
   "id": "dd5b2e5c-ea23-42db-8e22-e80b945286e3",
   "metadata": {},
   "outputs": [],
   "source": [
    "df_users_crosscheck_list = []\n",
    "drivepath = Path(\"Drive Daten\")\n",
    "\n",
    "columns_to_check = [\"article_drive_id\"]\n",
    "\n",
    "for count, curpath in enumerate(drivepath.rglob(\"students_pageviews*\")):\n",
    "    df = pd.read_parquet(curpath, columns=columns_to_check, engine='pyarrow')\n",
    "    df[\"count\"] = 1\n",
    "    df_users_crosscheck_list.append(df)"
   ]
  },
  {
   "cell_type": "code",
   "execution_count": null,
   "id": "09c62588-41c4-4ab2-9f21-04306ddbac84",
   "metadata": {},
   "outputs": [],
   "source": [
    "crosscheck_df = pd.concat(df_article_crosscheck_list)\n",
    "# Corona-Artikel\n",
    "len(crosscheck_df[crosscheck_df[\"article_drive_id\"] == \"7ca7a1ca182332beef95b03281317e92\"])"
   ]
  },
  {
   "cell_type": "code",
   "execution_count": null,
   "id": "419d4e92-9df6-4fff-bd6f-f4aec067c962",
   "metadata": {},
   "outputs": [],
   "source": [
    "# \"Vierte Laden-Musik\"\n",
    "len(crosscheck_df[crosscheck_df[\"article_drive_id\"] == \"397d5f5ee004e751c1c8ab46ed4af498\"])"
   ]
  },
  {
   "cell_type": "code",
   "execution_count": null,
   "id": "d3fb49ea-978d-4846-98c2-a23148189002",
   "metadata": {},
   "outputs": [],
   "source": []
  }
 ],
 "metadata": {
  "kernelspec": {
   "display_name": "Python 3 (ipykernel)",
   "language": "python",
   "name": "python3"
  },
  "language_info": {
   "codemirror_mode": {
    "name": "ipython",
    "version": 3
   },
   "file_extension": ".py",
   "mimetype": "text/x-python",
   "name": "python",
   "nbconvert_exporter": "python",
   "pygments_lexer": "ipython3",
   "version": "3.8.13"
  }
 },
 "nbformat": 4,
 "nbformat_minor": 5
}
