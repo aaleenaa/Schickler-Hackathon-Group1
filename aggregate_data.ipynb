{
 "cells": [
  {
   "cell_type": "code",
   "execution_count": null,
   "id": "b0526745-0193-4635-843f-8e881d31c72f",
   "metadata": {},
   "outputs": [],
   "source": [
    "import pandas as pd"
   ]
  },
  {
   "cell_type": "code",
   "execution_count": null,
   "id": "f43879cf-197f-45d3-a5d1-4915131ed1e0",
   "metadata": {},
   "outputs": [],
   "source": [
    "data = pd.read_parquet(\"aggregate_data.parquet\")\n",
    "data[\"count_views\"] = data[\"<5\"] + data[\"<30\"] + data[\"<60\"] + data[\">60\"]\n",
    "data[\"published_yearmonth\"] = data[\"published_at_local\"].map(lambda x: f\"{x.year}-{str(x.month).zfill(2)}\")\n",
    "\n",
    "data[\"published_yearmonth\"] = pd.to_datetime(data[\"published_yearmonth\"])\n",
    "\n",
    "data"
   ]
  },
  {
   "cell_type": "code",
   "execution_count": null,
   "id": "00301890-efba-49a2-9aac-f06b478a0143",
   "metadata": {},
   "outputs": [],
   "source": [
    "data.sort_values(by=\"count_views\", ascending=False).head(8)"
   ]
  },
  {
   "cell_type": "code",
   "execution_count": null,
   "id": "1886c7b7-179f-413c-9854-9450ca3f7bc6",
   "metadata": {},
   "outputs": [],
   "source": [
    "data[\"count_views\"].quantile(.98)"
   ]
  },
  {
   "cell_type": "code",
   "execution_count": null,
   "id": "e4d0038c-8607-4567-8a7e-41a7ad8396cb",
   "metadata": {},
   "outputs": [],
   "source": [
    "data_98_percentile = data[data[\"count_views\"]<data[\"count_views\"].quantile(.98)]"
   ]
  },
  {
   "cell_type": "code",
   "execution_count": null,
   "id": "f03496aa-9f56-46a9-a912-f031b2269175",
   "metadata": {},
   "outputs": [],
   "source": [
    "data_98_percentile_yearmonth = data_98_percentile.groupby([\"published_yearmonth\", \"publisher_id\", \"locality\", \"topic\", \"genre\"]).sum().reset_index()\n",
    "data_98_percentile_yearmonth"
   ]
  },
  {
   "cell_type": "code",
   "execution_count": null,
   "id": "468a14bf-eece-4e0c-bba9-3194af543bb6",
   "metadata": {},
   "outputs": [],
   "source": [
    "data_98_percentile_yearmonth.to_parquet(\"aggregate_data_98_percentile_yearmonth.parquet\")"
   ]
  },
  {
   "cell_type": "code",
   "execution_count": null,
   "id": "3c90a68d-b5f3-46a1-9f71-67f761a07689",
   "metadata": {},
   "outputs": [],
   "source": [
    "data_98_percentile_yearmonth.groupby([\"published_yearmonth\", \"topic\"]).sum().reset_index()"
   ]
  },
  {
   "cell_type": "raw",
   "id": "e27addec-e901-4c54-862e-5f610bbf8196",
   "metadata": {},
   "source": []
  },
  {
   "cell_type": "code",
   "execution_count": null,
   "id": "2a297b36-ca1b-477f-90c5-9957f3cff539",
   "metadata": {},
   "outputs": [],
   "source": [
    "data_98_percentile_yearmonth.groupby([\"published_yearmonth\", \"topic\"]).sum()"
   ]
  },
  {
   "cell_type": "code",
   "execution_count": null,
   "id": "ee24dc98-03f3-4087-ba49-b27b3c66cdb9",
   "metadata": {},
   "outputs": [],
   "source": [
    "totalviews_yearmonth = data_98_percentile_yearmonth.groupby([\"published_yearmonth\"]).sum().reset_index()[[\"published_yearmonth\",\"count_views\"]]\n",
    "totalviews_yearmonth = totalviews_yearmonth.rename(columns={\"count_views\": \"count_totals\"})\n",
    "totalviews_yearmonth.head()"
   ]
  },
  {
   "cell_type": "code",
   "execution_count": null,
   "id": "09ed6629-32cf-4084-8dbd-4d451e01874a",
   "metadata": {},
   "outputs": [],
   "source": [
    "data_98_percentile_yearmonth_totals_absolute = data_98_percentile_yearmonth.groupby([\"published_yearmonth\", \"topic\"]).sum().reset_index().merge(totalviews_yearmonth, on=\"published_yearmonth\")\n",
    "data_98_percentile_yearmonth_totals_absolute[\"count_relative\"] = data_98_percentile_yearmonth_totals_absolute[\"count_views\"]/data_98_percentile_yearmonth_totals_absolute[\"count_totals\"]*100\n",
    "data_98_percentile_yearmonth_totals_absolute"
   ]
  },
  {
   "cell_type": "code",
   "execution_count": null,
   "id": "a57b9197-46c4-4094-aa41-60703ac156f0",
   "metadata": {},
   "outputs": [],
   "source": [
    "data_98_percentile_yearmonth.groupby([\"published_yearmonth\"]).sum().reset_index()[[\"published_yearmonth\",\"count_views\"]]"
   ]
  },
  {
   "cell_type": "code",
   "execution_count": null,
   "id": "da4f5b9b-5e06-44d3-8b9a-f06d1ddc1827",
   "metadata": {},
   "outputs": [],
   "source": [
    "data_98_percentile_year_agg = data_98_percentile_yearmonth.copy()\n",
    "data_98_percentile_year_agg[\"published_year\"] = data_98_percentile_year_agg.published_yearmonth.map(lambda x: x.year)\n",
    "data_98_percentile_year_agg"
   ]
  },
  {
   "cell_type": "code",
   "execution_count": null,
   "id": "374edd69-3613-43fa-bd74-7e16389ac9dc",
   "metadata": {},
   "outputs": [],
   "source": [
    "data_98_percentile_year_agg.groupby([\"published_year\"]).sum().reset_index()"
   ]
  },
  {
   "cell_type": "code",
   "execution_count": null,
   "id": "c1058a0d-ae3b-46e6-8058-ab38c4dadf8c",
   "metadata": {},
   "outputs": [],
   "source": [
    "totalviews_year = data_98_percentile_year_agg.groupby([\"published_year\"]).sum()\n",
    "columns = totalviews_year.columns\n",
    "columns_new_dict = {column: f\"{column}_sum\" for column in columns}\n",
    "totalviews_year = totalviews_year.reset_index()\n",
    "totalviews_year = totalviews_year.rename(columns=columns_new_dict)\n",
    "totalviews_year.head()"
   ]
  },
  {
   "cell_type": "code",
   "execution_count": null,
   "id": "6a6618b2-12fb-4168-b002-37c788c77d2a",
   "metadata": {},
   "outputs": [],
   "source": [
    "data_98_percentile_year_agg"
   ]
  },
  {
   "cell_type": "code",
   "execution_count": null,
   "id": "f33e4fef-60d2-4b7d-a2ad-b346ae48593c",
   "metadata": {},
   "outputs": [],
   "source": [
    "data_98_percentile_year_agg.groupby([\"published_year\", \"published_yearmonth\", \"topic\"]).sum().reset_index().merge(totalviews_year, on=\"published_year\")"
   ]
  },
  {
   "cell_type": "code",
   "execution_count": null,
   "id": "e2ccf6aa-ca31-4684-8acc-2364fe385f8a",
   "metadata": {},
   "outputs": [],
   "source": [
    "data_98_percentile_year_agg = data_98_percentile_year_agg.groupby([\"published_year\", \"published_yearmonth\", \"topic\"]).sum().reset_index().merge(totalviews_year, on=\"published_year\")\n",
    "#data_98_percentile_year_agg[\"count_relative\"] = data_98_percentile_year_agg[\"count_views\"]/data_98_percentile_year_agg[\"count_totals\"]*100\n",
    "data_98_percentile_year_agg"
   ]
  },
  {
   "cell_type": "code",
   "execution_count": null,
   "id": "ffa4182c-2be1-4506-b0d7-66d180df0234",
   "metadata": {},
   "outputs": [],
   "source": [
    "data_98_percentile_year_agg[\"<5\"] / data_98_percentile_year_agg[\"<5_sum\"] * 100\n",
    "\n",
    "for column in columns:\n",
    "    data_98_percentile_year_agg[f\"{column}_rel\"] = data_98_percentile_year_agg[column] / data_98_percentile_year_agg[f\"{column}_sum\"] * 100"
   ]
  },
  {
   "cell_type": "code",
   "execution_count": null,
   "id": "887fe822-ad86-4338-aa15-c4a4fa8f0b36",
   "metadata": {},
   "outputs": [],
   "source": [
    "data_98_percentile_year_agg[[\"topic\",\"<5_rel\", \"<30_rel\", \"<60_rel\", \">60_rel\"]].melt(id_vars=\"topic\")"
   ]
  },
  {
   "cell_type": "code",
   "execution_count": null,
   "id": "c7b9451f-0539-4116-bd1b-cfdec41c704a",
   "metadata": {},
   "outputs": [],
   "source": [
    "data_98_percentile_yearmonth.groupby([\"published_yearmonth\"]).sum().reset_index()[[\"published_yearmonth\",\"count_views\"]]"
   ]
  },
  {
   "cell_type": "code",
   "execution_count": null,
   "id": "ae219850-e67c-4210-9dbc-bbd964ef53c9",
   "metadata": {},
   "outputs": [],
   "source": [
    "pd.unique(data_98_percentile_yearmonth.topic)"
   ]
  },
  {
   "cell_type": "code",
   "execution_count": null,
   "id": "6ccff962-6095-4512-ba2f-a4eb2be16aae",
   "metadata": {},
   "outputs": [],
   "source": [
    "sorted(pd.unique(data_98_percentile_yearmonth.topic))"
   ]
  },
  {
   "cell_type": "code",
   "execution_count": null,
   "id": "01805cd4-c893-4ed1-94fa-bf184c2f4e75",
   "metadata": {},
   "outputs": [],
   "source": [
    "filterlist = ['Justiz/Kriminalität', 'Politik', 'Sport: Nicht-Fußball',]"
   ]
  },
  {
   "cell_type": "code",
   "execution_count": null,
   "id": "e325049a-127f-4b34-b4a7-8380afb6d823",
   "metadata": {},
   "outputs": [],
   "source": [
    "data_98_percentile_yearmonth[data_98_percentile_yearmonth[\"topic\"].isin(filterlist)]"
   ]
  },
  {
   "cell_type": "code",
   "execution_count": null,
   "id": "8425c840-b7d9-4434-b39f-062a63969eda",
   "metadata": {},
   "outputs": [],
   "source": [
    "[{\"label\": listitem, \"value\": listitem} for listitem in pd.unique(data_98_percentile_yearmonth.topic)]"
   ]
  },
  {
   "cell_type": "code",
   "execution_count": null,
   "id": "4f99c173-6936-484d-9e76-5fd9fd68dc72",
   "metadata": {},
   "outputs": [],
   "source": [
    "pd.unique(data_98_percentile_yearmonth.topic)[1]"
   ]
  },
  {
   "cell_type": "code",
   "execution_count": null,
   "id": "37719364-dac9-4b1e-8250-01ad07ad7131",
   "metadata": {},
   "outputs": [],
   "source": [
    "    groupby_filter_df = filter_df.groupby([\"published_yearmonth\", \"topic\"]).sum().reset_index()\n"
   ]
  }
 ],
 "metadata": {
  "kernelspec": {
   "display_name": "Python 3 (ipykernel)",
   "language": "python",
   "name": "python3"
  },
  "language_info": {
   "codemirror_mode": {
    "name": "ipython",
    "version": 3
   },
   "file_extension": ".py",
   "mimetype": "text/x-python",
   "name": "python",
   "nbconvert_exporter": "python",
   "pygments_lexer": "ipython3",
   "version": "3.8.13"
  }
 },
 "nbformat": 4,
 "nbformat_minor": 5
}
